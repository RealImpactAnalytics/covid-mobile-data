{
 "cells": [
  {
   "cell_type": "code",
   "execution_count": 1,
   "metadata": {},
   "outputs": [],
   "source": [
    "import datetime as dt\n",
    "from etl_code.covid_mobile_data.cdr_aggregation.notebooks.modules.DataSource import *\n",
    "from etl_code.covid_mobile_data.cdr_aggregation.notebooks.modules.folder_utils import *"
   ]
  },
  {
   "cell_type": "code",
   "execution_count": 2,
   "metadata": {},
   "outputs": [],
   "source": [
    "#Set relative file path to config file\n",
    "config_file = '../config_file.py'\n",
    "exec(open(config_file).read())"
   ]
  },
  {
   "cell_type": "code",
   "execution_count": 3,
   "metadata": {
    "scrolled": true
   },
   "outputs": [
    {
     "name": "stdout",
     "output_type": "stream",
     "text": [
      "Spark mode is local\n",
      "\n",
      "Basepath: /home/jovyan/work/data\n",
      "Country and company path: country/operator\n",
      "Paths for datafiles: ['*.csv']\n",
      "Geofiles: {'tower_sites': 'ci_sites.csv', 'admin1': 'ci_admin1_shapefile.csv', 'admin1_tower_map': 'ci_admin1_tower_mapping.csv', 'admin2': 'ci_admin2_shapefile.csv', 'admin2_tower_map': 'ci_admin2_tower_mapping.csv', 'admin3': 'ci_admin1_shapefile.csv', 'admin3_tower_map': 'ci_admin3_tower_mapping.csv', 'voronoi': 'country_voronoi_shapefile.csv', 'voronoi_tower_map': 'country_voronoi_tower_map.csv', 'distances': 'country_distances_pd_long.csv'}\n",
      "Load options: {'seperator': ',', 'header': 'false', 'mode': 'DROPMALFORMED', 'datemask': 'yyyy-MM-dd HH:mm:ss'}\n",
      "Load schema: StructType(List(StructField(msisdn,IntegerType,true),StructField(call_datetime,StringType,true),StructField(location_id,StringType,true)))\n",
      "Filenames: {'parquetfile': 'data-file.parquet'}\n",
      "\n"
     ]
    }
   ],
   "source": [
    "#Create the DataSource object and show config\n",
    "ds = DataSource(datasource_configs)\n",
    "ds.show_config()"
   ]
  },
  {
   "cell_type": "code",
   "execution_count": 4,
   "metadata": {},
   "outputs": [
    {
     "data": {
      "text/plain": [
       "True"
      ]
     },
     "execution_count": 4,
     "metadata": {},
     "output_type": "execute_result"
    }
   ],
   "source": [
    "#Setup all required data folders\n",
    "setup_folder(ds)"
   ]
  },
  {
   "cell_type": "code",
   "execution_count": 5,
   "metadata": {},
   "outputs": [
    {
     "data": {
      "text/plain": [
       "True"
      ]
     },
     "execution_count": 5,
     "metadata": {},
     "output_type": "execute_result"
    }
   ],
   "source": [
    "#Check if required data folders already exists\n",
    "check_folders(ds)"
   ]
  },
  {
   "cell_type": "code",
   "execution_count": null,
   "metadata": {},
   "outputs": [],
   "source": []
  }
 ],
 "metadata": {
  "kernelspec": {
   "display_name": "Python 3",
   "language": "python",
   "name": "python3"
  },
  "language_info": {
   "codemirror_mode": {
    "name": "ipython",
    "version": 3
   },
   "file_extension": ".py",
   "mimetype": "text/x-python",
   "name": "python",
   "nbconvert_exporter": "python",
   "pygments_lexer": "ipython3",
   "version": "3.7.6"
  }
 },
 "nbformat": 4,
 "nbformat_minor": 4
}
